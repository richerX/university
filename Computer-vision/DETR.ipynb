{
 "nbformat": 4,
 "nbformat_minor": 0,
 "metadata": {
  "kernelspec": {
   "display_name": "Python 3",
   "language": "python",
   "name": "python3"
  },
  "language_info": {
   "codemirror_mode": {
    "name": "ipython",
    "version": 3
   },
   "file_extension": ".py",
   "mimetype": "text/x-python",
   "name": "python",
   "nbconvert_exporter": "python",
   "pygments_lexer": "ipython3",
   "version": "3.7.6"
  },
  "colab": {
   "provenance": []
  }
 },
 "cells": [
  {
   "cell_type": "code",
   "metadata": {
    "id": "V1OPEeVOYTEV"
   },
   "source": [
    "import math\n",
    "\n",
    "from PIL import Image\n",
    "import requests\n",
    "import matplotlib.pyplot as plt\n",
    "%config InlineBackend.figure_format = 'retina'\n",
    "\n",
    "import ipywidgets as widgets\n",
    "from IPython.display import display, clear_output\n",
    "\n",
    "import torch\n",
    "from torch import nn\n",
    "from torchvision.models import resnet50\n",
    "import torchvision.transforms as T\n",
    "torch.set_grad_enabled(False);\n",
    "\n",
    "CLASSES = [\n",
    "    'N/A', 'person', 'bicycle', 'car', 'motorcycle', 'airplane', 'bus',\n",
    "    'train', 'truck', 'boat', 'traffic light', 'fire hydrant', 'N/A',\n",
    "    'stop sign', 'parking meter', 'bench', 'bird', 'cat', 'dog', 'horse',\n",
    "    'sheep', 'cow', 'elephant', 'bear', 'zebra', 'giraffe', 'N/A', 'backpack',\n",
    "    'umbrella', 'N/A', 'N/A', 'handbag', 'tie', 'suitcase', 'frisbee', 'skis',\n",
    "    'snowboard', 'sports ball', 'kite', 'baseball bat', 'baseball glove',\n",
    "    'skateboard', 'surfboard', 'tennis racket', 'bottle', 'N/A', 'wine glass',\n",
    "    'cup', 'fork', 'knife', 'spoon', 'bowl', 'banana', 'apple', 'sandwich',\n",
    "    'orange', 'broccoli', 'carrot', 'hot dog', 'pizza', 'donut', 'cake',\n",
    "    'chair', 'couch', 'potted plant', 'bed', 'N/A', 'dining table', 'N/A',\n",
    "    'N/A', 'toilet', 'N/A', 'tv', 'laptop', 'mouse', 'remote', 'keyboard',\n",
    "    'cell phone', 'microwave', 'oven', 'toaster', 'sink', 'refrigerator', 'N/A',\n",
    "    'book', 'clock', 'vase', 'scissors', 'teddy bear', 'hair drier',\n",
    "    'toothbrush'\n",
    "]\n",
    "\n",
    "COLORS = [[0.000, 0.447, 0.741], [0.850, 0.325, 0.098], [0.929, 0.694, 0.125],\n",
    "          [0.494, 0.184, 0.556], [0.466, 0.674, 0.188], [0.301, 0.745, 0.933]]\n",
    "\n",
    "COLORS *= 100\n",
    "\n",
    "transform = T.Compose([\n",
    "    T.Resize(800),\n",
    "    T.ToTensor(),\n",
    "    T.Normalize([0.485, 0.456, 0.406], [0.229, 0.224, 0.225])\n",
    "])"
   ],
   "execution_count": null,
   "outputs": []
  },
  {
   "cell_type": "code",
   "metadata": {
    "id": "hYVZjfGhYTEa"
   },
   "source": [
    "def rescale(box, size):\n",
    "    img_w, img_h = size\n",
    "    x, y, w, h = box.unbind(1)\n",
    "    result = [(x - 0.5 * w), (y - 0.5 * h), (x + 0.5 * w), (y + 0.5 * h)]\n",
    "    result = torch.stack(result, dim=1)\n",
    "    result *= torch.tensor([img_w, img_h, img_w, img_h], dtype=torch.float32)\n",
    "    return result\n",
    "\n",
    "\n",
    "def plot(image, predictions, scaled):\n",
    "    plt.figure(figsize=(16,10))\n",
    "    plt.imshow(image)\n",
    "    axes = plt.gca()\n",
    "    for pred, (xmin, ymin, xmax, ymax), color in zip(predictions, scaled.tolist(), COLORS):\n",
    "        axes.add_patch(plt.Rectangle((xmin, ymin), xmax - xmin, ymax - ymin, fill=False, color=color, linewidth=3))\n",
    "        text = f\"{CLASSES[pred.argmax()]}: {pred[pred.argmax()]:0.2f}\"\n",
    "        axes.text(xmin, ymin, text, fontsize=12, bbox=dict(facecolor=\"orange\", alpha=0.5))\n",
    "    plt.axis(\"off\")\n",
    "    plt.show()"
   ],
   "execution_count": null,
   "outputs": []
  },
  {
   "cell_type": "code",
   "metadata": {
    "id": "07IsWxj2YTEY"
   },
   "source": [
    "model = torch.hub.load(\"facebookresearch/detr\", \"detr_resnet50\", pretrained=True)\n",
    "model.eval();"
   ],
   "execution_count": null,
   "outputs": []
  },
  {
   "cell_type": "code",
   "metadata": {
    "id": "8yls9cpVYTEg"
   },
   "source": [
    "urls = [\"http://images.cocodataset.org/val2017/000000039769.jpg\",\n",
    "        \"https://farm7.staticflickr.com/6096/6225161122_20e1b36fc0_z.jpg\",\n",
    "        \"https://farm7.staticflickr.com/6135/5996911372_783d085b50_z.jpg\",\n",
    "        \"https://farm9.staticflickr.com/8302/7877972164_51f717def0_z.jpg\",\n",
    "        \"https://farm7.staticflickr.com/6168/6148670625_1caaf41c72_z.jpg\",\n",
    "        \"https://farm6.staticflickr.com/5457/9641772821_5b20a20068_z.jpg\"]\n",
    "\n",
    "downloaded_images = [Image.open(requests.get(url, stream=True).raw) for url in urls]"
   ],
   "execution_count": null,
   "outputs": []
  },
  {
   "cell_type": "code",
   "metadata": {
    "id": "ZRluxbQYYTEe",
    "colab": {
     "base_uri": "https://localhost:8080/",
     "height": 575
    },
    "outputId": "ec3d5f47-3b6c-44d7-fa58-415f2e86e397",
    "pycharm": {
     "is_executing": true
    }
   },
   "source": [
    "def run_image(downloaded_image, threshold_up = 1, threshold_down = 0.7):\n",
    "    outputs = model(transform(downloaded_image).unsqueeze(0))\n",
    "    predictions = outputs['pred_logits'].softmax(-1)[0, :, :-1]\n",
    "    best_predictions_1 = predictions.max(-1).values >= threshold_down\n",
    "    best_predictions_2 = predictions.max(-1).values <= threshold_up\n",
    "    best_predictions = torch.logical_and(best_predictions_1, best_predictions_2)\n",
    "    scaled = rescale(outputs['pred_boxes'][0, best_predictions], downloaded_image.size)\n",
    "    plot(downloaded_image, predictions[best_predictions], scaled)\n",
    "\n",
    "\n",
    "for downloaded_image in downloaded_images:\n",
    "    run_image(downloaded_image)"
   ],
   "execution_count": null,
   "outputs": []
  }
 ]
}
