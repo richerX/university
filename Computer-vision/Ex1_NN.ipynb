{
  "nbformat": 4,
  "nbformat_minor": 0,
  "metadata": {
    "colab": {
      "provenance": []
    },
    "kernelspec": {
      "name": "python3",
      "display_name": "Python 3"
    }
  },
  "cells": [
    {
      "cell_type": "markdown",
      "metadata": {
        "id": "BRXusPhYCMOv"
      },
      "source": [
        "# Load the data\n",
        "\n",
        "You can download CIFAR10 dataset from official site:\n",
        "\n",
        "https://www.cs.toronto.edu/~kriz/cifar.html\n",
        "\n",
        "or do it using Pytorch:\n",
        "https://pytorch.org/vision/stable/datasets.html#cifar\n",
        "\n",
        "or another framework.\n",
        "\n"
      ]
    },
    {
      "cell_type": "code",
      "metadata": {
        "id": "kUHLgFWQ6xBq",
        "outputId": "1734d273-17e0-4d00-c639-dbbaaa1360f0",
        "colab": {
          "base_uri": "https://localhost:8080/"
        }
      },
      "source": [
        "# Put your code here\n",
        "from torchvision import models, datasets, transforms\n",
        "from torch.utils.data import DataLoader, random_split\n",
        "import numpy as np\n",
        "from PIL import Image\n",
        "\n",
        "\n",
        "# Define transformation for each image\n",
        "transform  = transforms.Compose([\n",
        "    transforms.Lambda(lambda x: np.array(x).flatten()) #Stretch image into row [32,32,3] -> [3072]\n",
        "])\n",
        "\n",
        "# Download a CIFAR10 dataset\n",
        "dataset = datasets.CIFAR10(\"content\",\n",
        "                           train=True,\n",
        "                           transform = transform,\n",
        "                           download=True)\n",
        "\n",
        "classes = ['Самолет', 'Автомобиль', 'Птица', 'Кошка', 'Олень', 'Собака', 'Лягушка', 'Лошадь', 'Корабль', 'Грузовик']"
      ],
      "execution_count": null,
      "outputs": [
        {
          "output_type": "stream",
          "name": "stdout",
          "text": [
            "Files already downloaded and verified\n"
          ]
        }
      ]
    },
    {
      "cell_type": "markdown",
      "metadata": {
        "id": "jYyQ8jCrCUoP"
      },
      "source": [
        "## Split data into train and validation parts\n",
        "\n",
        "Extract subset containing train and validation parts. \n",
        "Part must contain 5000 and 500 samples respectively."
      ]
    },
    {
      "cell_type": "code",
      "metadata": {
        "id": "98B8sDpi8HRd"
      },
      "source": [
        "# Put your code here\n",
        "x_train, x_val, _ = random_split(dataset, [5000, 500, 44500])\n",
        "\n",
        "x_names_indexes = []\n",
        "for images, class_nums in DataLoader(x_train):\n",
        "  class_name = classes[class_nums[0].item()]\n",
        "  x_names_indexes.append(classes.index(class_name))"
      ],
      "execution_count": null,
      "outputs": []
    },
    {
      "cell_type": "markdown",
      "metadata": {
        "id": "WWDRnugWCDsU"
      },
      "source": [
        "## Dispaly some images  along with it class names\n",
        "  \n"
      ]
    },
    {
      "cell_type": "code",
      "metadata": {
        "id": "K0xyDO8YB95O"
      },
      "source": [
        "# Put your code here\n",
        "for images, class_nums in DataLoader(x_train, batch_size = 256):\n",
        "  print(classes[class_nums[0].item()])\n",
        "  display(Image.fromarray(images[0].reshape((32,32,3)).numpy()))"
      ],
      "execution_count": null,
      "outputs": []
    },
    {
      "cell_type": "markdown",
      "metadata": {
        "id": "gVVCDZnvCoZI"
      },
      "source": [
        "# Implement NearestNeighbor class"
      ]
    },
    {
      "cell_type": "code",
      "metadata": {
        "id": "39EG-F_O8kbm"
      },
      "source": [
        "from sklearn.neighbors import NearestNeighbors\n",
        "\n",
        "class NearestNeighbor:\n",
        "  def __init__(self): # You can change the method signature\n",
        "    pass\n",
        "\n",
        "  def fit(self,x,y): # You can change the method signature\n",
        "    \"\"\"\n",
        "      Arguments:\n",
        "        x  (Tensor or numpy.array): collection of objects from testset (batch)\n",
        "        y  (Tensor or numpy.array): collection of integer \n",
        "        representing a class number for objects from x\n",
        "    \n",
        "    \"\"\"\n",
        "    self.x = x\n",
        "    self.y = y\n",
        "  \n",
        "  def predict(self, x):\n",
        "    \"\"\"\n",
        "      Arguments:\n",
        "          x  (Tensor or numpy.array): collection of objects from testset (batch)\n",
        "      \n",
        "      Returns:\n",
        "          class_num (Tensor or numpy.array) - collection of integer representing\n",
        "          class numbers for objects from x             \n",
        "    \"\"\"\n",
        "    labels = np.zeros(len(x))\n",
        "    for i in range(len(x)):\n",
        "      distances = [np.sum(np.abs(self.x[j][0] - x[i][0])) for j in range(len(self.x))]\n",
        "      labels[i] = self.y[np.argmin(distances)]\n",
        "    return labels\n"
      ],
      "execution_count": null,
      "outputs": []
    },
    {
      "cell_type": "markdown",
      "metadata": {
        "id": "wHkxc21JCsmb"
      },
      "source": [
        "##Perform smoke test\n",
        "\n",
        "- Create model instance\n",
        "- get predictions for dozen of samples\n"
      ]
    },
    {
      "cell_type": "code",
      "metadata": {
        "id": "IEFk1K9gCTYf",
        "outputId": "8e847627-40d0-43a9-a129-ee92a6e227fb",
        "colab": {
          "base_uri": "https://localhost:8080/"
        }
      },
      "source": [
        "model_nn = NearestNeighbor()\n",
        "\n",
        "test_dataset = datasets.CIFAR10(\"content\",\n",
        "                           train=False,\n",
        "                           transform = transform,\n",
        "                           download=True)\n",
        "x_test, _ = random_split(test_dataset, [10, 9990])\n",
        "x_test_names_indexes = []\n",
        "for images, class_nums in DataLoader(x_test):\n",
        "  x_test_names_indexes.append(classes[class_nums[0].item()])\n",
        "\n",
        "model_nn.fit(x_train, x_names_indexes)\n",
        "predicted_labels = model_nn.predict(x_test)\n",
        "for i, label in enumerate(predicted_labels):\n",
        "  print(classes[int(label)], \"vs\", x_test_names_indexes[i])\n"
      ],
      "execution_count": null,
      "outputs": [
        {
          "output_type": "stream",
          "name": "stdout",
          "text": [
            "Files already downloaded and verified\n",
            "Корабль vs Грузовик\n",
            "Автомобиль vs Автомобиль\n",
            "Самолет vs Птица\n",
            "Корабль vs Корабль\n",
            "Корабль vs Собака\n",
            "Корабль vs Корабль\n",
            "Птица vs Лошадь\n",
            "Птица vs Олень\n",
            "Олень vs Самолет\n",
            "Птица vs Собака\n"
          ]
        }
      ]
    },
    {
      "cell_type": "markdown",
      "metadata": {
        "id": "jXd1XtQTCzi7"
      },
      "source": [
        "# Validate your model"
      ]
    },
    {
      "cell_type": "markdown",
      "metadata": {
        "id": "Nn9rKA56C49-"
      },
      "source": [
        "## Create validation function\n",
        "\n",
        "Must calculate Accuracy metric for your model."
      ]
    },
    {
      "cell_type": "code",
      "metadata": {
        "id": "0CntfpSeBoLW"
      },
      "source": [
        "def validate(model,x, y):\n",
        "  \"\"\"\n",
        "      Arguments:\n",
        "          model (Object): instance of NearestNeighbor class\n",
        "          x (Tensor or numpy.array): collection of objects \n",
        "          y (Tensor or numpy.array): collection of integer representing\n",
        "          class numbers for objects from x   \n",
        "      \n",
        "      Returns:\n",
        "          accuracy (float) : percentage of correctly classified objects \n",
        "    \"\"\"\n",
        "  \n",
        "  correct, total = 0, 0\n",
        "  predicted_labels = model_nn.predict(x_test)\n",
        "  for i, label in enumerate(predicted_labels):\n",
        "    total += 1\n",
        "    if classes[int(label)] == x_test_names_indexes[i]:\n",
        "      correct += 1\n",
        "  return correct / total"
      ],
      "execution_count": null,
      "outputs": []
    },
    {
      "cell_type": "markdown",
      "metadata": {
        "id": "vjKQEAthEKxl"
      },
      "source": [
        " ## Calculate model accuracy on validation data"
      ]
    },
    {
      "cell_type": "code",
      "metadata": {
        "id": "Lv123m6OCEI-",
        "colab": {
          "base_uri": "https://localhost:8080/"
        },
        "outputId": "1e56d8d5-35b7-4a0f-9925-b4360ed712c1"
      },
      "source": [
        "accuracy = validate(model_nn, x_test, x_test_names_indexes) \n",
        "print (\"Accuracy {:.3f}\".format(accuracy))"
      ],
      "execution_count": null,
      "outputs": [
        {
          "output_type": "stream",
          "name": "stdout",
          "text": [
            "Accuracy 0.300\n"
          ]
        }
      ]
    },
    {
      "cell_type": "markdown",
      "metadata": {
        "id": "ZsImxpggG8bH"
      },
      "source": [
        "# Place for brief conclusion\n",
        "Feel free to describe troubles here.\n",
        "\n",
        "\n",
        "...\n",
        "\n"
      ]
    },
    {
      "cell_type": "markdown",
      "metadata": {
        "id": "lJ13OmfCEb1w"
      },
      "source": [
        "# Ideas for extra work\n",
        "\n",
        "- Implenment K-NearestNeighbor\n",
        "- Test different distance functions\n",
        "- Find hyperparams using Cross-Validation\n",
        "- Plot accuracy curve against K\n",
        "- Evaluate time  "
      ]
    }
  ]
}