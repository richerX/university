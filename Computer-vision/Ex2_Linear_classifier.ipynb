{
  "nbformat": 4,
  "nbformat_minor": 0,
  "metadata": {
    "colab": {
      "provenance": [],
      "collapsed_sections": []
    },
    "kernelspec": {
      "name": "python3",
      "display_name": "Python 3"
    },
    "widgets": {
      "application/vnd.jupyter.widget-state+json": {
        "aa2a8d7303cf43cc825ec3362a338a82": {
          "model_module": "@jupyter-widgets/controls",
          "model_name": "HBoxModel",
          "model_module_version": "1.5.0",
          "state": {
            "_dom_classes": [],
            "_model_module": "@jupyter-widgets/controls",
            "_model_module_version": "1.5.0",
            "_model_name": "HBoxModel",
            "_view_count": null,
            "_view_module": "@jupyter-widgets/controls",
            "_view_module_version": "1.5.0",
            "_view_name": "HBoxView",
            "box_style": "",
            "children": [
              "IPY_MODEL_5b31de4045174cd7ac3bfc8c5fa5eabd",
              "IPY_MODEL_d01e3fa394de4a42af9731c86ea3e695",
              "IPY_MODEL_0643250c509543659d65d0ba3f3dc08c"
            ],
            "layout": "IPY_MODEL_1a19591167574653bb0bb07cc7fd97fe"
          }
        },
        "5b31de4045174cd7ac3bfc8c5fa5eabd": {
          "model_module": "@jupyter-widgets/controls",
          "model_name": "HTMLModel",
          "model_module_version": "1.5.0",
          "state": {
            "_dom_classes": [],
            "_model_module": "@jupyter-widgets/controls",
            "_model_module_version": "1.5.0",
            "_model_name": "HTMLModel",
            "_view_count": null,
            "_view_module": "@jupyter-widgets/controls",
            "_view_module_version": "1.5.0",
            "_view_name": "HTMLView",
            "description": "",
            "description_tooltip": null,
            "layout": "IPY_MODEL_11081ad318f94480993ff41d9bf392f9",
            "placeholder": "​",
            "style": "IPY_MODEL_c85b885db3124482bafab9b7a7451ae2",
            "value": "100%"
          }
        },
        "d01e3fa394de4a42af9731c86ea3e695": {
          "model_module": "@jupyter-widgets/controls",
          "model_name": "FloatProgressModel",
          "model_module_version": "1.5.0",
          "state": {
            "_dom_classes": [],
            "_model_module": "@jupyter-widgets/controls",
            "_model_module_version": "1.5.0",
            "_model_name": "FloatProgressModel",
            "_view_count": null,
            "_view_module": "@jupyter-widgets/controls",
            "_view_module_version": "1.5.0",
            "_view_name": "ProgressView",
            "bar_style": "success",
            "description": "",
            "description_tooltip": null,
            "layout": "IPY_MODEL_3901e09fd3144213ae319333992a7f27",
            "max": 170498071,
            "min": 0,
            "orientation": "horizontal",
            "style": "IPY_MODEL_e1a3168e5dc6450fb16d24934b4d61d0",
            "value": 170498071
          }
        },
        "0643250c509543659d65d0ba3f3dc08c": {
          "model_module": "@jupyter-widgets/controls",
          "model_name": "HTMLModel",
          "model_module_version": "1.5.0",
          "state": {
            "_dom_classes": [],
            "_model_module": "@jupyter-widgets/controls",
            "_model_module_version": "1.5.0",
            "_model_name": "HTMLModel",
            "_view_count": null,
            "_view_module": "@jupyter-widgets/controls",
            "_view_module_version": "1.5.0",
            "_view_name": "HTMLView",
            "description": "",
            "description_tooltip": null,
            "layout": "IPY_MODEL_1769c53218254c68afc90452e43696c2",
            "placeholder": "​",
            "style": "IPY_MODEL_7dc37389097e43e9845de1c0f8fb50af",
            "value": " 170498071/170498071 [00:06&lt;00:00, 32451650.52it/s]"
          }
        },
        "1a19591167574653bb0bb07cc7fd97fe": {
          "model_module": "@jupyter-widgets/base",
          "model_name": "LayoutModel",
          "model_module_version": "1.2.0",
          "state": {
            "_model_module": "@jupyter-widgets/base",
            "_model_module_version": "1.2.0",
            "_model_name": "LayoutModel",
            "_view_count": null,
            "_view_module": "@jupyter-widgets/base",
            "_view_module_version": "1.2.0",
            "_view_name": "LayoutView",
            "align_content": null,
            "align_items": null,
            "align_self": null,
            "border": null,
            "bottom": null,
            "display": null,
            "flex": null,
            "flex_flow": null,
            "grid_area": null,
            "grid_auto_columns": null,
            "grid_auto_flow": null,
            "grid_auto_rows": null,
            "grid_column": null,
            "grid_gap": null,
            "grid_row": null,
            "grid_template_areas": null,
            "grid_template_columns": null,
            "grid_template_rows": null,
            "height": null,
            "justify_content": null,
            "justify_items": null,
            "left": null,
            "margin": null,
            "max_height": null,
            "max_width": null,
            "min_height": null,
            "min_width": null,
            "object_fit": null,
            "object_position": null,
            "order": null,
            "overflow": null,
            "overflow_x": null,
            "overflow_y": null,
            "padding": null,
            "right": null,
            "top": null,
            "visibility": null,
            "width": null
          }
        },
        "11081ad318f94480993ff41d9bf392f9": {
          "model_module": "@jupyter-widgets/base",
          "model_name": "LayoutModel",
          "model_module_version": "1.2.0",
          "state": {
            "_model_module": "@jupyter-widgets/base",
            "_model_module_version": "1.2.0",
            "_model_name": "LayoutModel",
            "_view_count": null,
            "_view_module": "@jupyter-widgets/base",
            "_view_module_version": "1.2.0",
            "_view_name": "LayoutView",
            "align_content": null,
            "align_items": null,
            "align_self": null,
            "border": null,
            "bottom": null,
            "display": null,
            "flex": null,
            "flex_flow": null,
            "grid_area": null,
            "grid_auto_columns": null,
            "grid_auto_flow": null,
            "grid_auto_rows": null,
            "grid_column": null,
            "grid_gap": null,
            "grid_row": null,
            "grid_template_areas": null,
            "grid_template_columns": null,
            "grid_template_rows": null,
            "height": null,
            "justify_content": null,
            "justify_items": null,
            "left": null,
            "margin": null,
            "max_height": null,
            "max_width": null,
            "min_height": null,
            "min_width": null,
            "object_fit": null,
            "object_position": null,
            "order": null,
            "overflow": null,
            "overflow_x": null,
            "overflow_y": null,
            "padding": null,
            "right": null,
            "top": null,
            "visibility": null,
            "width": null
          }
        },
        "c85b885db3124482bafab9b7a7451ae2": {
          "model_module": "@jupyter-widgets/controls",
          "model_name": "DescriptionStyleModel",
          "model_module_version": "1.5.0",
          "state": {
            "_model_module": "@jupyter-widgets/controls",
            "_model_module_version": "1.5.0",
            "_model_name": "DescriptionStyleModel",
            "_view_count": null,
            "_view_module": "@jupyter-widgets/base",
            "_view_module_version": "1.2.0",
            "_view_name": "StyleView",
            "description_width": ""
          }
        },
        "3901e09fd3144213ae319333992a7f27": {
          "model_module": "@jupyter-widgets/base",
          "model_name": "LayoutModel",
          "model_module_version": "1.2.0",
          "state": {
            "_model_module": "@jupyter-widgets/base",
            "_model_module_version": "1.2.0",
            "_model_name": "LayoutModel",
            "_view_count": null,
            "_view_module": "@jupyter-widgets/base",
            "_view_module_version": "1.2.0",
            "_view_name": "LayoutView",
            "align_content": null,
            "align_items": null,
            "align_self": null,
            "border": null,
            "bottom": null,
            "display": null,
            "flex": null,
            "flex_flow": null,
            "grid_area": null,
            "grid_auto_columns": null,
            "grid_auto_flow": null,
            "grid_auto_rows": null,
            "grid_column": null,
            "grid_gap": null,
            "grid_row": null,
            "grid_template_areas": null,
            "grid_template_columns": null,
            "grid_template_rows": null,
            "height": null,
            "justify_content": null,
            "justify_items": null,
            "left": null,
            "margin": null,
            "max_height": null,
            "max_width": null,
            "min_height": null,
            "min_width": null,
            "object_fit": null,
            "object_position": null,
            "order": null,
            "overflow": null,
            "overflow_x": null,
            "overflow_y": null,
            "padding": null,
            "right": null,
            "top": null,
            "visibility": null,
            "width": null
          }
        },
        "e1a3168e5dc6450fb16d24934b4d61d0": {
          "model_module": "@jupyter-widgets/controls",
          "model_name": "ProgressStyleModel",
          "model_module_version": "1.5.0",
          "state": {
            "_model_module": "@jupyter-widgets/controls",
            "_model_module_version": "1.5.0",
            "_model_name": "ProgressStyleModel",
            "_view_count": null,
            "_view_module": "@jupyter-widgets/base",
            "_view_module_version": "1.2.0",
            "_view_name": "StyleView",
            "bar_color": null,
            "description_width": ""
          }
        },
        "1769c53218254c68afc90452e43696c2": {
          "model_module": "@jupyter-widgets/base",
          "model_name": "LayoutModel",
          "model_module_version": "1.2.0",
          "state": {
            "_model_module": "@jupyter-widgets/base",
            "_model_module_version": "1.2.0",
            "_model_name": "LayoutModel",
            "_view_count": null,
            "_view_module": "@jupyter-widgets/base",
            "_view_module_version": "1.2.0",
            "_view_name": "LayoutView",
            "align_content": null,
            "align_items": null,
            "align_self": null,
            "border": null,
            "bottom": null,
            "display": null,
            "flex": null,
            "flex_flow": null,
            "grid_area": null,
            "grid_auto_columns": null,
            "grid_auto_flow": null,
            "grid_auto_rows": null,
            "grid_column": null,
            "grid_gap": null,
            "grid_row": null,
            "grid_template_areas": null,
            "grid_template_columns": null,
            "grid_template_rows": null,
            "height": null,
            "justify_content": null,
            "justify_items": null,
            "left": null,
            "margin": null,
            "max_height": null,
            "max_width": null,
            "min_height": null,
            "min_width": null,
            "object_fit": null,
            "object_position": null,
            "order": null,
            "overflow": null,
            "overflow_x": null,
            "overflow_y": null,
            "padding": null,
            "right": null,
            "top": null,
            "visibility": null,
            "width": null
          }
        },
        "7dc37389097e43e9845de1c0f8fb50af": {
          "model_module": "@jupyter-widgets/controls",
          "model_name": "DescriptionStyleModel",
          "model_module_version": "1.5.0",
          "state": {
            "_model_module": "@jupyter-widgets/controls",
            "_model_module_version": "1.5.0",
            "_model_name": "DescriptionStyleModel",
            "_view_count": null,
            "_view_module": "@jupyter-widgets/base",
            "_view_module_version": "1.2.0",
            "_view_name": "StyleView",
            "description_width": ""
          }
        }
      }
    }
  },
  "cells": [
    {
      "cell_type": "markdown",
      "metadata": {
        "id": "BlRBhMZtdf94"
      },
      "source": [
        "# Download dataset with Pytorch\n",
        "\n"
      ]
    },
    {
      "cell_type": "markdown",
      "metadata": {
        "id": "BNE5Qqw_rdsV"
      },
      "source": [
        "## Load the data"
      ]
    },
    {
      "cell_type": "code",
      "metadata": {
        "id": "vKAZ-aQtrg8q",
        "colab": {
          "base_uri": "https://localhost:8080/",
          "height": 84,
          "referenced_widgets": [
            "aa2a8d7303cf43cc825ec3362a338a82",
            "5b31de4045174cd7ac3bfc8c5fa5eabd",
            "d01e3fa394de4a42af9731c86ea3e695",
            "0643250c509543659d65d0ba3f3dc08c",
            "1a19591167574653bb0bb07cc7fd97fe",
            "11081ad318f94480993ff41d9bf392f9",
            "c85b885db3124482bafab9b7a7451ae2",
            "3901e09fd3144213ae319333992a7f27",
            "e1a3168e5dc6450fb16d24934b4d61d0",
            "1769c53218254c68afc90452e43696c2",
            "7dc37389097e43e9845de1c0f8fb50af"
          ]
        },
        "outputId": "f458bcbe-3533-41d1-afeb-328d579d0097"
      },
      "source": [
        "from torchvision import models, datasets, transforms\n",
        "from torch.utils.data import DataLoader, random_split\n",
        "import numpy as np\n",
        "from PIL import Image\n",
        "\n",
        "\n",
        "# Define transformation for each image\n",
        "transform  = transforms.Compose([\n",
        "    transforms.Lambda(lambda x: np.array(x).flatten()) #Stretch image into row [32,32,3] -> [3072]\n",
        "])\n",
        "\n",
        "# Download a CIFAR10 dataset\n",
        "dataset = datasets.CIFAR10(\"content\",\n",
        "                           train=True,\n",
        "                           transform = transform,\n",
        "                           download=True)\n"
      ],
      "execution_count": 1,
      "outputs": [
        {
          "output_type": "stream",
          "name": "stdout",
          "text": [
            "Downloading https://www.cs.toronto.edu/~kriz/cifar-10-python.tar.gz to content/cifar-10-python.tar.gz\n"
          ]
        },
        {
          "output_type": "display_data",
          "data": {
            "text/plain": [
              "  0%|          | 0/170498071 [00:00<?, ?it/s]"
            ],
            "application/vnd.jupyter.widget-view+json": {
              "version_major": 2,
              "version_minor": 0,
              "model_id": "aa2a8d7303cf43cc825ec3362a338a82"
            }
          },
          "metadata": {}
        },
        {
          "output_type": "stream",
          "name": "stdout",
          "text": [
            "Extracting content/cifar-10-python.tar.gz to content\n"
          ]
        }
      ]
    },
    {
      "cell_type": "markdown",
      "metadata": {
        "id": "I3F4IoDErlcw"
      },
      "source": [
        "## Split dataset & define dataloaders"
      ]
    },
    {
      "cell_type": "code",
      "metadata": {
        "id": "Fu02DmABYxoh",
        "colab": {
          "base_uri": "https://localhost:8080/",
          "height": 84
        },
        "outputId": "39337127-4a07-4e37-a4fa-8cf421c426bc"
      },
      "source": [
        "train_ds, val_ds, _= random_split(dataset, [20000,1000 ,29000])\n",
        "# Hint: Perform debug on smaller subset\n",
        "\n",
        "batch_size = 256\n",
        "\n",
        "train_loader = DataLoader(train_ds, batch_size = batch_size)\n",
        "val_loader = DataLoader(val_ds, batch_size = batch_size)\n",
        "\n",
        "# Display one image\n",
        "for images, class_nums in train_loader:\n",
        "  print (images.shape,class_nums.shape) # class_nums are tensor!\n",
        "  display(Image.fromarray(images[0].reshape((32,32,3)).numpy()),class_nums[0].item()) \n",
        "  break \n"
      ],
      "execution_count": 3,
      "outputs": [
        {
          "output_type": "stream",
          "name": "stdout",
          "text": [
            "torch.Size([256, 3072]) torch.Size([256])\n"
          ]
        },
        {
          "output_type": "display_data",
          "data": {
            "text/plain": [
              "<PIL.Image.Image image mode=RGB size=32x32 at 0x7F3961340B10>"
            ],
            "image/png": "[encoded data removed]"
          },
          "metadata": {}
        },
        {
          "output_type": "display_data",
          "data": {
            "text/plain": [
              "1"
            ]
          },
          "metadata": {}
        }
      ]
    },
    {
      "cell_type": "markdown",
      "metadata": {
        "id": "GqC6xXhSeUPr"
      },
      "source": [
        "# Implement LinearClassifier class for CIFAR10"
      ]
    },
    {
      "cell_type": "code",
      "metadata": {
        "id": "vaxIJUM7eQUp"
      },
      "source": [
        "import random\n",
        "\n",
        "random.seed(6512)\n",
        "\n",
        "class LinearClassifier:\n",
        "    def __init__(self, labels):\n",
        "        self.labels = labels\n",
        "        self.classes_num = len(labels)\n",
        "        self.W = np.random.randn(3073, self.classes_num) * 0.0001 \n",
        "        self.batch_size = 200\n",
        "\n",
        "\n",
        "    def train(self, x_batch, y_batch, learning_rate = 1e-8):\n",
        "        \"\"\"\n",
        "            Arguments:\n",
        "            x  (numpy.array): collection of objects (batch)\n",
        "            y  (numpy.array): collection of integer \n",
        "            representing a class number for objects from x\n",
        "\n",
        "        \"\"\"\n",
        "        loss = 0.0\n",
        "        train_len = x_batch.shape[0]\n",
        "        numbers = list(range(train_len))\n",
        "        random.shuffle(numbers)\n",
        "\n",
        "        for i in range(0, train_len, self.batch_size):\n",
        "            current_slice = numbers[i : i + self.batch_size]\n",
        "            X_batch, Y_batch = x_batch[current_slice], y_batch[current_slice]\n",
        "            X_batch = np.hstack([X_batch, np.ones((X_batch.shape[0], 1))])\n",
        "\n",
        "            loss_val, dW_val = self.loss(X_batch, Y_batch)\n",
        "            loss += loss_val\n",
        "            self.W -= learning_rate * dW_val\n",
        "\n",
        "        return loss/x_batch.shape[0]\n",
        "\n",
        "    def loss(self,x, y): # x and y are batches\n",
        "        \"\"\"\n",
        "            Arguments:\n",
        "            x  (numpy.array): collection of objects (batch)\n",
        "            y  (numpy.array): collection of integer \n",
        "            representing a class number for objects from x\n",
        "\n",
        "        \"\"\"\n",
        "\n",
        "        loss = 0.0\n",
        "        dW = np.zeros(self.W.shape)\n",
        "\n",
        "        # Calculate Multiclass SVM or Cross-entropy loss over a batch \n",
        "        size = x.shape[0]\n",
        "        for i in range(size):\n",
        "            counter = 0\n",
        "            scores = x[i].dot(self.W)\n",
        "            for j in range(self.classes_num):\n",
        "                if j == y[i]:\n",
        "                    continue\n",
        "                \n",
        "                gain = scores[j] - scores[y[i]] + 1\n",
        "                if gain <= 0:\n",
        "                    continue\n",
        "                \n",
        "                counter += 1\n",
        "                loss += gain\n",
        "                dW[:, j] += x[i]\n",
        "            \n",
        "            dW[:, y[i]] -= counter * x[i]\n",
        "\n",
        "        # Calculate gradients (dL/dW) and store it in dW\n",
        "        loss /= size\n",
        "        dW /= size\n",
        "\n",
        "        return loss, dW\n",
        "        \n",
        "    def predict(self,x):\n",
        "        x = self.add_ones(x)\n",
        "        scores = x.dot(self.W) # (256, 3073) * (3073, 10)\n",
        "        return np.argmax(scores, axis = 1)\n",
        "\n",
        "    # https://stackoverflow.com/questions/36247067/how-to-add-ones-to-matrix\n",
        "    def add_ones(self,x):\n",
        "        return np.append(x, np.ones([x.shape[0], 1], dtype=np.int32), axis=1)"
      ],
      "execution_count": 40,
      "outputs": []
    },
    {
      "cell_type": "markdown",
      "metadata": {
        "id": "cyVPgrr5xjhU"
      },
      "source": [
        "# Train model"
      ]
    },
    {
      "cell_type": "markdown",
      "metadata": {
        "id": "v5zVN1kHd43W"
      },
      "source": [
        "## Function for accuracy checking\n",
        "\n",
        "Don't change this code"
      ]
    },
    {
      "cell_type": "code",
      "metadata": {
        "id": "dzhRClCsdzJw"
      },
      "source": [
        "from sklearn.metrics import accuracy_score\n",
        "\n",
        "def validate(model,dataloader):\n",
        "  y_predicted = np.array([])\n",
        "  y_gtrue = np.array([])\n",
        "  for images, class_nums in dataloader:\n",
        "    index = model.predict(images.numpy())\n",
        "    y_predicted = np.append(y_predicted,index) \n",
        "    y_gtrue = np.append(y_gtrue,class_nums.numpy()) \n",
        "  return accuracy_score(y_gtrue, y_predicted)  "
      ],
      "execution_count": 41,
      "outputs": []
    },
    {
      "cell_type": "markdown",
      "metadata": {
        "id": "HQr1qYUlxq7X"
      },
      "source": [
        "## Train loop\n",
        "Let's train our model"
      ]
    },
    {
      "cell_type": "code",
      "metadata": {
        "id": "phcDEj7OdpGS",
        "colab": {
          "base_uri": "https://localhost:8080/"
        },
        "outputId": "eede087e-5d98-4e21-bc94-59f3520121b5"
      },
      "source": [
        "\n",
        "model = LinearClassifier(dataset.classes)\n",
        "best_accuracy = 0\n",
        "for epoch in range(25):\n",
        "  for images, class_nums in train_loader:\n",
        "    loss = model.train(images.numpy(), class_nums.numpy())\n",
        "    accuracy = validate(model,val_loader)\n",
        "  if best_accuracy < accuracy:\n",
        "     best_accuracy = accuracy\n",
        "  print(f\"Epoch {epoch} Loss: {loss}, Accuracy:{accuracy}\")\n",
        "\n",
        "print(f\"Best accuracy is {best_accuracy}\")"
      ],
      "execution_count": 42,
      "outputs": [
        {
          "output_type": "stream",
          "name": "stdout",
          "text": [
            "Epoch 0 Loss: 0.18451194803479076, Accuracy:0.277\n",
            "Epoch 1 Loss: 0.1679409316648983, Accuracy:0.313\n",
            "Epoch 2 Loss: 0.15324056224821503, Accuracy:0.336\n",
            "Epoch 3 Loss: 0.15319983225206804, Accuracy:0.337\n",
            "Epoch 4 Loss: 0.14597804064310702, Accuracy:0.354\n",
            "Epoch 5 Loss: 0.14763627918899314, Accuracy:0.344\n",
            "Epoch 6 Loss: 0.143472039912722, Accuracy:0.366\n",
            "Epoch 7 Loss: 0.14458218866406597, Accuracy:0.362\n",
            "Epoch 8 Loss: 0.14198769531108393, Accuracy:0.373\n",
            "Epoch 9 Loss: 0.14815466524266055, Accuracy:0.37\n",
            "Epoch 10 Loss: 0.13973845158232262, Accuracy:0.374\n",
            "Epoch 11 Loss: 0.13091155133540694, Accuracy:0.373\n",
            "Epoch 12 Loss: 0.13309781341672372, Accuracy:0.381\n",
            "Epoch 13 Loss: 0.13727422243910203, Accuracy:0.381\n",
            "Epoch 14 Loss: 0.14071881609608333, Accuracy:0.371\n",
            "Epoch 15 Loss: 0.13254962213728377, Accuracy:0.382\n",
            "Epoch 16 Loss: 0.13842503989058458, Accuracy:0.382\n",
            "Epoch 17 Loss: 0.13258601959504915, Accuracy:0.371\n",
            "Epoch 18 Loss: 0.13125980078209712, Accuracy:0.384\n",
            "Epoch 19 Loss: 0.13523209106724196, Accuracy:0.383\n",
            "Epoch 20 Loss: 0.1337379107377059, Accuracy:0.387\n",
            "Epoch 21 Loss: 0.13103562905773639, Accuracy:0.381\n",
            "Epoch 22 Loss: 0.12429738684585645, Accuracy:0.388\n",
            "Epoch 23 Loss: 0.13114675283486335, Accuracy:0.374\n",
            "Epoch 24 Loss: 0.12772005525505145, Accuracy:0.384\n",
            "Best accuracy is 0.388\n"
          ]
        }
      ]
    },
    {
      "cell_type": "markdown",
      "metadata": {
        "id": "D4tIFR5bwZFi"
      },
      "source": [
        "# Check model on test dataset\n",
        "\n",
        "You must get accuracy above 0.35\n"
      ]
    },
    {
      "cell_type": "code",
      "metadata": {
        "id": "MM0pWYJlwibm",
        "colab": {
          "base_uri": "https://localhost:8080/"
        },
        "outputId": "9686f44d-6408-4f78-f716-ba76245d65eb"
      },
      "source": [
        "test_dataset = datasets.CIFAR10(\"content\",\n",
        "                           train=False,\n",
        "                           transform = transform, # Transforms stay the same\n",
        "                           download=True)\n",
        "\n",
        "test_loader = DataLoader(test_dataset, batch_size = batch_size)\n",
        "\n",
        "accuracy = validate(model,test_loader)\n",
        "print(f\"Accuracy on test:{accuracy}\")\n"
      ],
      "execution_count": 44,
      "outputs": [
        {
          "output_type": "stream",
          "name": "stdout",
          "text": [
            "Files already downloaded and verified\n",
            "Accuracy on test:0.3539\n"
          ]
        }
      ]
    },
    {
      "cell_type": "markdown",
      "metadata": {
        "id": "ZsImxpggG8bH"
      },
      "source": [
        "# Place for brief conclusion\n",
        "Feel free to describe troubles here.\n",
        "\n",
        "\n",
        "...\n",
        "\n"
      ]
    },
    {
      "cell_type": "markdown",
      "metadata": {
        "id": "lJ13OmfCEb1w"
      },
      "source": [
        "# Ideas for extra work\n",
        "\n",
        "- Implenment CrossEntropyLoss function\n",
        "- Implement bias trick\n",
        "- Add regularization to SVM loss\n",
        "- Find best learning rate and regularization strength using Cross-Validation\n",
        "- Normalize data\n",
        "\n",
        "\n",
        " "
      ]
    }
  ]
}