{
  "nbformat": 4,
  "nbformat_minor": 0,
  "metadata": {
    "colab": {
      "provenance": [],
      "toc_visible": true
    },
    "kernelspec": {
      "name": "python3",
      "display_name": "Python 3"
    },
    "language_info": {
      "name": "python"
    },
    "accelerator": "GPU"
  },
  "cells": [
    {
      "cell_type": "markdown",
      "source": [
        "# Tasks\n",
        "\n",
        "* Implement vanilla autoencoder\n",
        "* Train it on MNIST dataset MNIST\n",
        "* Display digits recovered dy AE\n",
        "* Display distribution of embeddings in latent space"
      ],
      "metadata": {
        "id": "PJcJtA0OF3CP"
      }
    },
    {
      "cell_type": "markdown",
      "source": [
        "#Dataset\n",
        "\n",
        "http://yann.lecun.com/exdb/mnist/\n",
        "\n",
        "The MNIST database of handwritten digits, has a training set of 60,000 examples, and a test set of 10,000 examples.\n",
        "\n",
        "The images were centered in a 28x28 image by computing the center of mass of the pixels.\n",
        "\n"
      ],
      "metadata": {
        "id": "Q1RSfPrxFzVN"
      }
    },
    {
      "cell_type": "code",
      "execution_count": null,
      "metadata": {
        "id": "JvPsg0rJFrMf"
      },
      "outputs": [],
      "source": [
        "import torch, torchvision\n",
        "from torchvision.datasets import MNIST\n",
        "from torchvision import transforms, utils\n",
        "\n",
        "\n",
        "transf = transforms.Compose([\n",
        "                             transforms.ToTensor(),\n",
        "                             transforms.Normalize( (0.1307) , (0.3081) )\n",
        "                             ])\n",
        "\n",
        "train_dataset = MNIST('mnist',\n",
        "                      train = True,\n",
        "                      download = True,\n",
        "                      transform = transf\n",
        "                      )\n",
        "\n",
        "test_dataset = MNIST('mnist',\n",
        "                     train = False,\n",
        "                     download = True,\n",
        "                     transform = transf\n",
        "                     )"
      ]
    },
    {
      "cell_type": "markdown",
      "source": [
        "Display some samples along with corresponding labels"
      ],
      "metadata": {
        "id": "h4H_0snrb3tr"
      }
    },
    {
      "cell_type": "code",
      "source": [
        "import matplotlib.pyplot as plt\n",
        "from torch.utils.data import  DataLoader\n",
        "\n",
        "# Helper method\n",
        "def show(grid):\n",
        "  plt.axis(\"off\")\n",
        "  plt.imshow(grid.permute(1,2,0).numpy())\n",
        "  plt.show()    \n",
        "\n",
        "vis_dataloader = DataLoader(test_dataset, batch_size = 8, shuffle=True)\n",
        "dataiter = iter(vis_dataloader)\n",
        "example_batch = next(dataiter) # img1,  label\n",
        "\n",
        "# display the data\n",
        "grid = torchvision.utils.make_grid(example_batch[0])\n",
        "show(grid)\n",
        "print(example_batch[1].numpy())"
      ],
      "metadata": {
        "id": "tBNRWBLqcAd8"
      },
      "execution_count": null,
      "outputs": []
    },
    {
      "cell_type": "markdown",
      "source": [
        "# Model\n",
        "\n",
        "Implement vanilla autoencoder model."
      ],
      "metadata": {
        "id": "tEjkNhatIwbd"
      }
    },
    {
      "cell_type": "code",
      "source": [
        "import torch.nn as nn\n",
        "\n",
        "class Encoder(nn.Module):\n",
        "    def __init__(self, latent_size):\n",
        "        super().__init__()\n",
        "        self.latent_size = latent_size\n",
        "        self.encoder = nn.Sequential(nn.Linear(28 , 28), nn.Sigmoid())\n",
        "\n",
        "    def forward(self,x):\n",
        "        return self.encoder(x)  \n",
        "\n",
        "\n",
        "class Decoder(nn.Module):\n",
        "    def __init__(self, latent_size):\n",
        "        super().__init__()\n",
        "        self.latent_size = latent_size\n",
        "        self.decoder = nn.Sequential(nn.Linear(28, 28))\n",
        "\n",
        "    def forward(self,x):\n",
        "        return self.decoder(x)   "
      ],
      "metadata": {
        "id": "uSOH58d0JILD"
      },
      "execution_count": null,
      "outputs": []
    },
    {
      "cell_type": "markdown",
      "source": [
        "##Smoke test "
      ],
      "metadata": {
        "id": "drltxlPGhGYp"
      }
    },
    {
      "cell_type": "code",
      "source": [
        "encoder = Encoder(2)\n",
        "dummy = torch.randn((1,1,28,28))\n",
        "print(\"Encoder In\",dummy.shape)\n",
        "embedding = encoder(dummy)\n",
        "print(\"encoder Out\",embedding.shape)\n",
        "\n",
        "\n",
        "decoder = Decoder(2)\n",
        "recovered = decoder(embedding)\n",
        "print(\"Decoder out\",recovered.shape)\n",
        "\n",
        "assert( dummy.shape == recovered.shape) ,\"Decoder out shape must be equal to input shape\""
      ],
      "metadata": {
        "id": "U6CHg3d6hF1f",
        "colab": {
          "base_uri": "https://localhost:8080/"
        },
        "outputId": "328e0c95-cfb7-46dd-fbe0-74444a2e7dac"
      },
      "execution_count": null,
      "outputs": [
        {
          "output_type": "stream",
          "name": "stdout",
          "text": [
            "Encoder In torch.Size([1, 1, 28, 28])\n",
            "encoder Out torch.Size([1, 1, 28, 28])\n",
            "Decoder out torch.Size([1, 1, 28, 28])\n"
          ]
        }
      ]
    },
    {
      "cell_type": "markdown",
      "source": [
        "###AE\n",
        "\n",
        "Implement AutoEncoder class. \n",
        "Use Decoder and Encoder classes implemented early."
      ],
      "metadata": {
        "id": "1wWqvBLQoCAO"
      }
    },
    {
      "cell_type": "code",
      "source": [
        "class AutoEncoder(nn.Module):\n",
        "  def __init__(self, latent_size):\n",
        "    super().__init__()\n",
        "    self.encoder = Encoder(latent_size)\n",
        "    self.decoder = Decoder(latent_size)\n",
        "\n",
        "  def forward(self, x):\n",
        "    embedding = self.encoder(x)\n",
        "    recovered = self.decoder(embedding)\n",
        "    return recovered"
      ],
      "metadata": {
        "id": "cl4g_HsLlLi3"
      },
      "execution_count": null,
      "outputs": []
    },
    {
      "cell_type": "markdown",
      "source": [
        "# Train"
      ],
      "metadata": {
        "id": "AoB0I8tGkKFs"
      }
    },
    {
      "cell_type": "markdown",
      "source": [
        "Define dataloaders"
      ],
      "metadata": {
        "id": "KTwMOTRSksqp"
      }
    },
    {
      "cell_type": "code",
      "source": [
        "train_dataloader = DataLoader(train_dataset,shuffle=True,batch_size=128)\n",
        "test_dataloader = DataLoader(test_dataset,shuffle=False,batch_size=256)"
      ],
      "metadata": {
        "id": "BgIsdHCBYq7U"
      },
      "execution_count": null,
      "outputs": []
    },
    {
      "cell_type": "markdown",
      "source": [
        "Define main training routine and train your model"
      ],
      "metadata": {
        "id": "kDkLCtkxkvUT"
      }
    },
    {
      "cell_type": "code",
      "source": [
        "from torch import optim\n",
        "from torch.utils.tensorboard import SummaryWriter\n",
        "\n",
        "device = torch.device('cuda' if torch.cuda.is_available() else 'cpu')\n",
        "\n",
        "model = AutoEncoder(2)\n",
        "epochs = 20\n",
        "outputs = []\n",
        "\n",
        "for epoch in range(epochs):\n",
        "    for (image, _) in train_dataloader:\n",
        "        reconstructed = model.forward(image)\n",
        "        outputs.append([image, reconstructed])\n",
        "    print(f\"Epoch = {epoch + 1}\")\n",
        "\n",
        "outputs = outputs[len(outputs) - 50:]"
      ],
      "metadata": {
        "id": "X56WacS2kMgj",
        "colab": {
          "base_uri": "https://localhost:8080/"
        },
        "outputId": "ae2ae876-8956-4302-a56a-4e2ae5ebb4a1"
      },
      "execution_count": null,
      "outputs": [
        {
          "output_type": "stream",
          "name": "stdout",
          "text": [
            "Epoch = 1\n",
            "Epoch = 2\n",
            "Epoch = 3\n",
            "Epoch = 4\n",
            "Epoch = 5\n",
            "Epoch = 6\n",
            "Epoch = 7\n",
            "Epoch = 8\n",
            "Epoch = 9\n",
            "Epoch = 10\n",
            "Epoch = 11\n",
            "Epoch = 12\n",
            "Epoch = 13\n",
            "Epoch = 14\n",
            "Epoch = 15\n",
            "Epoch = 16\n",
            "Epoch = 17\n",
            "Epoch = 18\n",
            "Epoch = 19\n",
            "Epoch = 20\n"
          ]
        }
      ]
    },
    {
      "cell_type": "markdown",
      "source": [
        "Tensorboard launching code\n",
        "\n"
      ],
      "metadata": {
        "id": "wPRy0EMjlLyL"
      }
    },
    {
      "cell_type": "code",
      "source": [
        "import os\n",
        "import shutil\n",
        "import tensorflow as tf\n",
        "import tensorboard as tb\n",
        "\n",
        "#https://stackoverflow.com/questions/60730544/tensorboard-colab-tensorflow-api-v1-io-gfile-has-no-attribute-get-filesystem\n",
        "tf.io.gfile = tb.compat.tensorflow_stub.io.gfile\n",
        "\n",
        "# Helper method to run Tensorboard in Colab\n",
        "def reinit_tensorboard(clear_log = True):\n",
        "  # Directory for log files\n",
        "  logs_base_dir = \"runs\"\n",
        "  if clear_log:\n",
        "    # Clear logs\n",
        "    shutil.rmtree(logs_base_dir, ignore_errors = True)\n",
        "    os.makedirs(logs_base_dir, exist_ok=True)\n",
        "  # Colab magic\n",
        "  %load_ext tensorboard\n",
        "  %tensorboard --logdir {logs_base_dir}\n",
        "\n",
        "reinit_tensorboard()"
      ],
      "metadata": {
        "id": "IGrG7a2dnQh2"
      },
      "execution_count": null,
      "outputs": []
    },
    {
      "cell_type": "markdown",
      "source": [
        "## Let's test the model\n",
        "\n",
        "Compare original and recovered digits."
      ],
      "metadata": {
        "id": "XNm_Uw2Ujz2J"
      }
    },
    {
      "cell_type": "code",
      "source": [
        "length = len(outputs)\n",
        "\n",
        "for image, reconstructed in outputs[:1]:\n",
        "    image = image[:10]\n",
        "    reconstructed = reconstructed[:10]\n",
        "\n",
        "    for i, item in enumerate(image):\n",
        "        item = item.reshape(-1, 28, 28)\n",
        "        plt.imshow(item[0])\n",
        "        plt.show()\n",
        "    \n",
        "    for i, item in enumerate(reconstructed):\n",
        "        item = item.reshape(-1, 28, 28)\n",
        "        plt.imshow(item[0].detach())\n",
        "        plt.show()"
      ],
      "metadata": {
        "id": "ITMiHTpolaCg"
      },
      "execution_count": null,
      "outputs": []
    },
    {
      "cell_type": "markdown",
      "source": [
        "# Conclusion\n",
        "\n",
        "..."
      ],
      "metadata": {
        "id": "R_dkuRBHCmCR"
      }
    },
    {
      "cell_type": "markdown",
      "source": [
        "# Ideas for extra work\n",
        "\n",
        "* Find the best latent space size\n",
        "* Implement noise filtration with AE\n",
        "* Test vector arithmetic in laent space\n",
        "* Implemet VAE \n",
        "** Use Autoencoder class as base class\n",
        "** Implement VAE Loss class\n",
        "** Plot embeddings manifold in VAE latent space\n",
        "** Compare decoding results VAE latent space with vanilla Autoencoder results\n",
        "* Replace reconstruction loss from MSE to BCE\n",
        "* Implement Conditional Autoencoder or CVAE"
      ],
      "metadata": {
        "id": "hcAAp7sIe89G"
      }
    }
  ]
}